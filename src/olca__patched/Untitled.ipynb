{
 "cells": [
  {
   "cell_type": "code",
   "execution_count": 25,
   "id": "d6e19694-82de-4f3f-902c-229ce916cd9c",
   "metadata": {
    "tags": []
   },
   "outputs": [],
   "source": [
    "import sys, os, shutil\n",
    "import pandas\n",
    "import json\n"
   ]
  },
  {
   "cell_type": "code",
   "execution_count": 3,
   "id": "ce406aed-4774-4651-8821-8046f6bb6d85",
   "metadata": {
    "tags": []
   },
   "outputs": [
    {
     "name": "stdout",
     "output_type": "stream",
     "text": [
      "os.path.abspath(output_root_folder): C:\\Users\\Grass_Valley\\Documents\\Projects\\FSPL (UBC)\\GitLab\\openlca\\src\\olca__patched\\Egg-production-process-hierarchy\n"
     ]
    }
   ],
   "source": [
    "input_root_folder = os.path.abspath(\"Egg-production/\")\n",
    "output_root_folder = f\"{input_root_folder}-process-hierarchy\"\n",
    "print(f\"os.path.abspath(output_root_folder): {os.path.abspath(output_root_folder)}\")"
   ]
  },
  {
   "cell_type": "code",
   "execution_count": 4,
   "id": "eb3b37ce-f9d4-4e77-ba0b-9f5aa6616fca",
   "metadata": {
    "tags": []
   },
   "outputs": [],
   "source": [
    "os.makedirs(output_root_folder, exist_ok=True)"
   ]
  },
  {
   "cell_type": "code",
   "execution_count": 14,
   "id": "105a8dc1-5d1f-4c5e-ac26-dbd5cbe40fd2",
   "metadata": {
    "tags": []
   },
   "outputs": [
    {
     "name": "stdout",
     "output_type": "stream",
     "text": [
      "C:\\Users\\Grass_Valley\\Documents\\Projects\\FSPL (UBC)\\GitLab\\openlca\\resources\\Egg-production-process-hierarchy\n",
      "root: C:\\Users\\Grass_Valley\\Documents\\Projects\\FSPL (UBC)\\GitLab\\openlca\\resources\\Egg-production-process-hierarchy\n",
      "dir: Test folder\n"
     ]
    }
   ],
   "source": [
    "output_root_folder = \"C:\\\\Users\\\\Grass_Valley\\\\Documents\\\\Projects\\\\FSPL (UBC)\\\\GitLab\\\\openlca\\\\resources\\\\Egg-production-process-hierarchy\"\n",
    "print(output_root_folder)\n",
    "for root, dirs, files in os.walk(output_root_folder):\n",
    "    print(f\"root: {root}\")\n",
    "    for file in files:\n",
    "        print(f\"file: {file}\")\n",
    "        os.unlink(os.path.join(root, file))\n",
    "    for dir in dirs:\n",
    "        print(f\"dir: {dir}\")\n",
    "        shutil.rmtree(os.path.join(root, dir))\n"
   ]
  },
  {
   "cell_type": "code",
   "execution_count": 37,
   "id": "402f6630-d811-47d4-9888-92fde0c0bdf2",
   "metadata": {
    "tags": []
   },
   "outputs": [
    {
     "name": "stdout",
     "output_type": "stream",
     "text": [
      "<class 'ValueError'>: Worksheet named 'gargage' not found\n"
     ]
    }
   ],
   "source": [
    "input_file = \"C:\\\\Users\\\\Grass_Valley\\\\Documents\\\\Projects\\\\FSPL (UBC)\\\\GitLab\\\\openlca\\\\resources\\\\Egg-production\\\\Farm__A__003.xlsx\"\n",
    "try:\n",
    "    xls = pandas.read_excel(input_file, \"gargage\")\n",
    "    xls\n",
    "    xls_dict = xls.to_dict()\n",
    "    xls_dict\n",
    "    xls_dict_string = json.dumps(xls_dict, indent=4)\n",
    "    print(xls_dict_string)\n",
    "except Exception as e:\n",
    "    print(f\"{type(e)}: {str(e)}\")"
   ]
  },
  {
   "cell_type": "code",
   "execution_count": 2,
   "id": "624299f4-98b2-4854-b8ac-775b2ff3e630",
   "metadata": {
    "tags": []
   },
   "outputs": [
    {
     "name": "stdout",
     "output_type": "stream",
     "text": [
      "['C:\\\\Users\\\\Grass_Valley\\\\Documents\\\\Projects\\\\FSPL (UBC)\\\\GitLab\\\\openlca\\\\src\\\\olca__patched', 'C:\\\\Users\\\\Grass_Valley\\\\Documents\\\\Projects\\\\FSPL (UBC)\\\\GitLab\\\\openlca\\\\src\\\\olca__patched', 'C:\\\\Users\\\\James Bamber\\\\AppData\\\\Local\\\\Programs\\\\Python\\\\Python36-32', 'C:\\\\Users\\\\James Bamber\\\\AppData\\\\Local\\\\Programs\\\\Python\\\\Python36-32\\\\Scripts', 'C:\\\\Users\\\\Grass_Valley\\\\AppData\\\\Local\\\\anaconda3\\\\python311.zip', 'C:\\\\Users\\\\Grass_Valley\\\\AppData\\\\Local\\\\anaconda3\\\\DLLs', 'C:\\\\Users\\\\Grass_Valley\\\\AppData\\\\Local\\\\anaconda3\\\\Lib', 'C:\\\\Users\\\\Grass_Valley\\\\AppData\\\\Local\\\\anaconda3', '', 'C:\\\\Users\\\\Grass_Valley\\\\AppData\\\\Local\\\\anaconda3\\\\Lib\\\\site-packages', 'C:\\\\Users\\\\Grass_Valley\\\\AppData\\\\Local\\\\anaconda3\\\\Lib\\\\site-packages\\\\win32', 'C:\\\\Users\\\\Grass_Valley\\\\AppData\\\\Local\\\\anaconda3\\\\Lib\\\\site-packages\\\\win32\\\\lib', 'C:\\\\Users\\\\Grass_Valley\\\\AppData\\\\Local\\\\anaconda3\\\\Lib\\\\site-packages\\\\Pythonwin']\n"
     ]
    }
   ],
   "source": [
    "print(sys.path)"
   ]
  },
  {
   "cell_type": "code",
   "execution_count": 3,
   "id": "3913427a-91fb-4614-8d33-8a6efceca62d",
   "metadata": {
    "tags": []
   },
   "outputs": [
    {
     "name": "stdout",
     "output_type": "stream",
     "text": [
      "Collecting olca-ipc\n",
      "  Downloading olca_ipc-2.0.2-py3-none-any.whl (17 kB)\n",
      "Collecting olca-schema>=0.0.12 (from olca-ipc)\n",
      "  Downloading olca_schema-0.0.12-py3-none-any.whl (27 kB)\n",
      "Requirement already satisfied: requests>=2.28.1 in c:\\users\\grass_valley\\appdata\\local\\anaconda3\\lib\\site-packages (from olca-ipc) (2.31.0)\n",
      "Requirement already satisfied: charset-normalizer<4,>=2 in c:\\users\\grass_valley\\appdata\\local\\anaconda3\\lib\\site-packages (from requests>=2.28.1->olca-ipc) (2.0.4)\n",
      "Requirement already satisfied: idna<4,>=2.5 in c:\\users\\grass_valley\\appdata\\local\\anaconda3\\lib\\site-packages (from requests>=2.28.1->olca-ipc) (3.4)\n",
      "Requirement already satisfied: urllib3<3,>=1.21.1 in c:\\users\\grass_valley\\appdata\\local\\anaconda3\\lib\\site-packages (from requests>=2.28.1->olca-ipc) (1.26.16)\n",
      "Requirement already satisfied: certifi>=2017.4.17 in c:\\users\\grass_valley\\appdata\\local\\anaconda3\\lib\\site-packages (from requests>=2.28.1->olca-ipc) (2023.7.22)\n",
      "Installing collected packages: olca-schema, olca-ipc\n",
      "Successfully installed olca-ipc-2.0.2 olca-schema-0.0.12\n"
     ]
    }
   ],
   "source": [
    "!pip install olca-ipc"
   ]
  },
  {
   "cell_type": "code",
   "execution_count": 57,
   "id": "de587df5-9d2f-4070-b8cd-fad927aa9fcd",
   "metadata": {},
   "outputs": [],
   "source": [
    "class SheetNames:\n",
    "    GENERAL_INFORMATION = \"General information\"\n",
    "    INPUTS = \"Inputs\"\n",
    "    OUTPUTS = \"Outputs\"\n",
    "    ALLOCATION = \"Allocation\"\n",
    "    FLOWS = \"Flows\"\n",
    "\n",
    "    @staticmethod\n",
    "    def list():\n",
    "        return [\n",
    "            SheetNames.GENERAL_INFORMATION,\n",
    "            SheetNames.INPUTS,\n",
    "            SheetNames.OUTPUTS,\n",
    "            SheetNames.ALLOCATION,\n",
    "            SheetNames.FLOWS,\n",
    "        ]\n"
   ]
  },
  {
   "cell_type": "code",
   "execution_count": 58,
   "id": "14755598-f2ef-40d2-946b-fddced5ddf4e",
   "metadata": {
    "tags": []
   },
   "outputs": [
    {
     "name": "stdout",
     "output_type": "stream",
     "text": [
      "General information\n",
      "Inputs\n",
      "Outputs\n",
      "Allocation\n",
      "Flows\n"
     ]
    }
   ],
   "source": [
    "for sheet_name in SheetNames.list():\n",
    "    print(sheet_name)"
   ]
  },
  {
   "cell_type": "code",
   "execution_count": 59,
   "id": "e38ab2fe-aa6c-48b9-af6b-370f528ee9b7",
   "metadata": {
    "tags": []
   },
   "outputs": [
    {
     "data": {
      "text/plain": [
       "'General information'"
      ]
     },
     "execution_count": 59,
     "metadata": {},
     "output_type": "execute_result"
    }
   ],
   "source": [
    "SheetNames.GENERAL_INFORMATION"
   ]
  },
  {
   "cell_type": "code",
   "execution_count": null,
   "id": "6f577f0f-1856-4488-a5cb-b57b8edc96c7",
   "metadata": {},
   "outputs": [],
   "source": []
  }
 ],
 "metadata": {
  "kernelspec": {
   "display_name": "Python 3 (ipykernel)",
   "language": "python",
   "name": "python3"
  },
  "language_info": {
   "codemirror_mode": {
    "name": "ipython",
    "version": 3
   },
   "file_extension": ".py",
   "mimetype": "text/x-python",
   "name": "python",
   "nbconvert_exporter": "python",
   "pygments_lexer": "ipython3",
   "version": "3.11.3"
  }
 },
 "nbformat": 4,
 "nbformat_minor": 5
}
