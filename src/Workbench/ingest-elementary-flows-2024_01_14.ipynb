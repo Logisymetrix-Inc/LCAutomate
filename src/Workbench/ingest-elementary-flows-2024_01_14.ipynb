{
 "cells": [
  {
   "cell_type": "markdown",
   "id": "c9594f91-8923-4a4d-b0f6-b7a65442cdd5",
   "metadata": {
    "tags": []
   },
   "source": [
    "# Ingestion example for elementary flows test\n",
    "##### January 14, 2024\n",
    "\n",
    "_This notebook is the baseline for the OpenLCA workbench project. With this you can do analysis of your OpenLCA result files._\n",
    "* _Edit cells of the notebook as required, as you run them sequentially._\n"
   ]
  },
  {
   "cell_type": "markdown",
   "id": "65a0ee95-cfda-4504-b0fa-a4f8c701efd5",
   "metadata": {
    "tags": []
   },
   "source": [
    "### Imports"
   ]
  },
  {
   "cell_type": "code",
   "execution_count": 1,
   "id": "e43e83a6-3881-4681-81ee-eeba7aaf7dd0",
   "metadata": {
    "tags": []
   },
   "outputs": [],
   "source": [
    "import pandas as pd\n",
    "from ingestion import Ingestion"
   ]
  },
  {
   "cell_type": "markdown",
   "id": "8c3cfadc-bb3f-46bd-9786-3859c6657694",
   "metadata": {
    "tags": []
   },
   "source": [
    "## How-to configure ingestion\n",
    "You need to provide an array of DataFrame creation definitions.  They will be processed in order, thus subsequent definitions may refer to DataFrames created in precedent ones.  The result of the ingestion will be a dictionary of DataFrames, each one referred to by its dataframe_name.\n",
    "#### Single DataFrame creation definition\n",
    "Here are the fields in a DataFrame creation definition:\n",
    "* **dataframe_name** (string):\n",
    "    * the identifier of the created DataFrame, i.e. `dataframes[dataframe_name]`\n",
    "* **creation_method** (string):\n",
    "    * two methods are possible: `\"read_from_json_files\"` and `\"merge\"`\n",
    "    * these are distinctly different and the subsequent fields depend on the creation method\n",
    "\n",
    "\n",
    "##### Read from JSON files (creation method)\n",
    "* **input_dir** (string):\n",
    "    * the directory which contains the JSON files to be processed - currently only a single directory is supported\n",
    "* **file_selection_regex** (string):\n",
    "    * see this __[Python regex tutorial](https://www.dataquest.io/blog/regular-expressions-data-scientists/)__ if you need explanation on working with regex\n",
    "    * in the example below, the regex matches total impact files for all housing types and all farm numbers\n",
    "    * regex is powerful, good to know it\n",
    "* **columns** (list):\n",
    "    * this is a list of column definitions for the DataFrame that is being created\n",
    "    * each column definition contains:\n",
    "        * **column_name** (string):\n",
    "            * this will become a DataFrame column name, so follow the appropriate syntax\n",
    "        * **source** (string):\n",
    "            * two sources are possible: `\"from_filename\"` and `\"from_json\"`:\n",
    "        * (from_filename) **spec** (string):\n",
    "            * this spec is a regex, like the file_selection_regex\n",
    "            * the difference is you must specify a group capture using `(` and `)`\n",
    "            * a reasonable tutorial on this is __[python-regex-capturing-groups](https://pynative.com/python-regex-capturing-groups/)__\n",
    "            * this column will have one value per file\n",
    "            * if other columns have multiple values per file, this value will be replicated as appropriate\n",
    "        * (from_json) **spec** (string):\n",
    "            * this is the most complex part of the definition\n",
    "            * the format of the from_json spec is based loosely on __[jmespath](https://jmespath.org/tutorial.html)__\n",
    "            * but be careful, it is a simplified version of it, so the documentation is only a rough guide\n",
    "            * the spec is a series of tokens separated by `.` that specifies a \"JSON path\"\n",
    "            * the position in the series corresponds to the depth in the JSON hierarchy\n",
    "            * the last token in the spec must correpond to a value or list of values\n",
    "            * briefly, the possible token values (or pairs) are:\n",
    "                * `<key>` - take only the sub-JSON or the value corresponding to this key\n",
    "                * `[].<key>` - take the full list of sub-JSON elements or values contained in the list at this level of the JSON\n",
    "                * `[n].<key>` - take the nth list element (sub-JSON or value)\n",
    "                * `__keys__[].<key>` - take the full list of sub-JSON elements or values contained at this level of the JSON\n",
    "                * `__keys__[n].<key>` - take the nth element (sub-JSON or value) at this level of the JSON\n",
    "            * in order to really understand this, please see __[Tutorial on using the from_json spec](test_ingest.ipynb#section_id1)__\n",
    "\n",
    "##### Merge (creation method)\n",
    "* **left_dataframe** (string):\n",
    "    * the name of the \"left\" DataFrame to merge\n",
    "    * this is considered the primary DataFrame\n",
    "    * it must exist in the dictionary of DataFrames already created\n",
    "* **right_dataframe** (string):\n",
    "    * the name of the \"right\" DataFrame to merge\n",
    "    * this is considered the secondary DataFrame\n",
    "    * it must exist in the dictionary of DataFrames already created\n",
    "* **left_merge_columns** (list):\n",
    "    * list of columns in the left DataFrame to merge on\n",
    "* **right_merge_columns** (list):\n",
    "    * list of columns in the right DataFrame to merge on\n",
    "\n",
    "In order to really understand this, please see __[Tutorial on merging DataFrames](test_ingest.ipynb#section_id2)__"
   ]
  },
  {
   "cell_type": "markdown",
   "id": "3615fcb7-a282-483d-b6e0-6866dd532451",
   "metadata": {
    "tags": []
   },
   "source": [
    "## Setup for DataFrame definition list\n",
    "In this step, we set up the file regex and \"specs\" that are shared by the DataFrame definitions.  This makes the definitions more readable and more easily modified.\n"
   ]
  },
  {
   "cell_type": "code",
   "execution_count": 2,
   "id": "ccd4ec04-a6c0-418a-bfb3-3354206e93f5",
   "metadata": {
    "tags": []
   },
   "outputs": [],
   "source": [
    "# Input directory:\n",
    "input_dir = \"C:\\\\Users\\\\Grass_Valley\\\\Documents\\\\Projects\\\\FSPL (UBC)\\\\GitLab\\\\openlca\\\\resources\\\\Elementary flows data sets\\\\\"\n",
    "\n",
    "# Filename example: \n",
    "#   Conventional egg production__Farm__A__003-with-elementary-flow-output.xlsx-result-total-impacts\n",
    "conv_egg_prod = \"Conventional egg production__\"\n",
    "regex_all_farms = \"Farm__.*__.*-with-elementary-flow-output\\.xlsx\"\n",
    "spec_housing = \"Farm__(.*)__.*-with-elementary-flow-output\\.xlsx\"\n",
    "spec_number = \"Farm__.*__(.*)-with-elementary-flow-output\\.xlsx\"\n",
    "\n",
    "# Regex and spec examples\n",
    "# total_impacts_full_regex =   \"^Conventional egg production__Farm__.*__.*-with-elementary-flow-output\\.xlsx-result-total-impacts$\"\n",
    "# total_impacts_housing_spec = \"^Conventional egg production__Farm__(.*)__.*-with-elementary-flow-output\\.xlsx-result-total-impacts$\"\n",
    "# total_impacts_number_spec =  \"^Conventional egg production__Farm__.*__(.*)-with-elementary-flow-output\\.xlsx-result-total-impacts$\"\n"
   ]
  },
  {
   "cell_type": "markdown",
   "id": "687e70eb-110b-46b1-8391-2bc5b14f4348",
   "metadata": {
    "tags": []
   },
   "source": [
    "## List of DataFrame definitions\n",
    "* Total impacts DataFrame definition\n",
    "* Upstream impacts DataFrame definition\n",
    "* Combined upstream impacts DataFrame definition\n",
    "* Flow impacts DataFrame definition\n",
    "* Production processes DataFrame definition\n",
    "* Combined flow impacts DataFrame definition"
   ]
  },
  {
   "cell_type": "markdown",
   "id": "9792051c-7b5b-487c-bdbb-80ebb020a22f",
   "metadata": {
    "jp-MarkdownHeadingCollapsed": true,
    "tags": []
   },
   "source": [
    "### Total impacts DataFrame definition"
   ]
  },
  {
   "cell_type": "code",
   "execution_count": 3,
   "id": "4c1a0b92-7ce0-4c70-a2c5-7e0e457baf2b",
   "metadata": {
    "tags": []
   },
   "outputs": [],
   "source": [
    "total_impacts_df_definition = {\n",
    "    \"dataframe_name\": \"total_impacts_df\",\n",
    "    \"creation_method\": \"read_from_json_files\",\n",
    "    \"input_dir\": input_dir,\n",
    "    \"file_selection_regex\": f\"^{conv_egg_prod}{regex_all_farms}-result-total-impacts$\",\n",
    "    \"columns\": [\n",
    "        {\n",
    "            \"column_name\": \"housingType\",\n",
    "            \"source\": \"from_filename\",\n",
    "            \"spec\": f\"^{conv_egg_prod}{spec_housing}-result-total-impacts$\"\n",
    "        },\n",
    "        {\n",
    "            \"column_name\": \"farmNumber\",\n",
    "            \"source\": \"from_filename\",\n",
    "            \"spec\": f\"^{conv_egg_prod}{spec_number}-result-total-impacts$\"\n",
    "        },\n",
    "        {\n",
    "            \"column_name\": \"impactCategory\",\n",
    "            \"source\": \"from_json\",\n",
    "            \"spec\": \"[].impactCategory.name\"\n",
    "        },\n",
    "        {\n",
    "            \"column_name\": \"amount\",\n",
    "            \"source\": \"from_json\",\n",
    "            \"spec\": \"[].amount\"\n",
    "        },\n",
    "        {\n",
    "            \"column_name\": \"refUnit\",\n",
    "            \"source\": \"from_json\",\n",
    "            \"spec\": \"[].impactCategory.refUnit\"\n",
    "        }\n",
    "    ]\n",
    "}"
   ]
  },
  {
   "cell_type": "markdown",
   "id": "595f2c40-b3c5-43d3-a73d-8af1eafb5d46",
   "metadata": {
    "jp-MarkdownHeadingCollapsed": true,
    "tags": []
   },
   "source": [
    "### Upstream impacts DataFrame definition"
   ]
  },
  {
   "cell_type": "code",
   "execution_count": 4,
   "id": "aade6e15-46b2-44e7-a730-000aa0dff84f",
   "metadata": {
    "tags": []
   },
   "outputs": [],
   "source": [
    "upstream_impacts_df_definition = {\n",
    "    \"dataframe_name\": \"upstream_impacts_df\",\n",
    "    \"creation_method\": \"read_from_json_files\",\n",
    "    \"input_dir\": input_dir,\n",
    "    \"file_selection_regex\": f\"^{conv_egg_prod}{regex_all_farms}-result-upstream-of-impact-category$\",\n",
    "    \"columns\": [\n",
    "        {\n",
    "            \"column_name\": \"housingType\",\n",
    "            \"source\": \"from_filename\",\n",
    "            \"spec\": f\"^{conv_egg_prod}{spec_housing}-result-upstream-of-impact-category$\"\n",
    "        },\n",
    "        {\n",
    "            \"column_name\": \"farmNumber\",\n",
    "            \"source\": \"from_filename\",\n",
    "            \"spec\": f\"^{conv_egg_prod}{spec_number}-result-upstream-of-impact-category$\"\n",
    "        },\n",
    "        {\n",
    "            \"column_name\": \"impactCategory\",\n",
    "            \"source\": \"from_json\",\n",
    "            \"spec\": \"[].__keys__[0]\"\n",
    "        },\n",
    "        {\n",
    "            \"column_name\": \"upstreamFlow\",\n",
    "            \"source\": \"from_json\",\n",
    "            \"spec\": \"[].__keys__[0].[0].upstreamTechFlows.[].techFlow.flow.name\"\n",
    "        },\n",
    "        {\n",
    "            \"column_name\": \"upstreamFlowAmount\",\n",
    "            \"source\": \"from_json\",\n",
    "            \"spec\": \"[].__keys__[0].[0].upstreamTechFlows.[].result\"\n",
    "        }\n",
    "    ]\n",
    "}"
   ]
  },
  {
   "cell_type": "markdown",
   "id": "5969c758-f751-4584-93c7-a97da502214b",
   "metadata": {
    "jp-MarkdownHeadingCollapsed": true,
    "tags": []
   },
   "source": [
    "### Combined upstream impacts DataFrame definition"
   ]
  },
  {
   "cell_type": "code",
   "execution_count": 5,
   "id": "186abee5-4dca-4d0e-87b3-9b220392547f",
   "metadata": {
    "tags": []
   },
   "outputs": [],
   "source": [
    "combined_upstream_impacts_df_definition = {\n",
    "    \"dataframe_name\": \"combined_upstream_impacts_df\",\n",
    "    \"creation_method\": \"merge\",\n",
    "    \"merge_how\": \"outer\",\n",
    "    \"left_dataframe\": \"total_impacts_df\",\n",
    "    \"right_dataframe\": \"upstream_impacts_df\",\n",
    "    \"left_merge_columns\": [\n",
    "        \"housingType\",\n",
    "        \"farmNumber\",\n",
    "        \"impactCategory\"\n",
    "    ],\n",
    "    \"right_merge_columns\": [\n",
    "        \"housingType\",\n",
    "        \"farmNumber\",\n",
    "        \"impactCategory\"\n",
    "    ]\n",
    "}"
   ]
  },
  {
   "cell_type": "markdown",
   "id": "6d354678-c7af-44bc-a062-3a7741c51c89",
   "metadata": {
    "jp-MarkdownHeadingCollapsed": true,
    "tags": []
   },
   "source": [
    "### Flow impacts DataFrame definition"
   ]
  },
  {
   "cell_type": "code",
   "execution_count": 6,
   "id": "eaa9139b-2650-4b60-b546-0a6dcd894ecf",
   "metadata": {
    "tags": []
   },
   "outputs": [],
   "source": [
    "flow_impacts_df_definition = {\n",
    "    \"dataframe_name\": \"flow_impacts_df\",\n",
    "    \"creation_method\": \"read_from_json_files\",\n",
    "    \"input_dir\": input_dir,\n",
    "    \"file_selection_regex\": f\"^{conv_egg_prod}{regex_all_farms}-result-flows-of-impact-category$\",\n",
    "    \"columns\": [\n",
    "        {\n",
    "            \"column_name\": \"housingType\",\n",
    "            \"source\": \"from_filename\",\n",
    "            \"spec\": f\"^{conv_egg_prod}{spec_housing}-result-flows-of-impact-category$\"\n",
    "        },\n",
    "        {\n",
    "            \"column_name\": \"farmNumber\",\n",
    "            \"source\": \"from_filename\",\n",
    "            \"spec\": f\"^{conv_egg_prod}{spec_number}-result-flows-of-impact-category$\"\n",
    "        },\n",
    "        {\n",
    "            \"column_name\": \"impactCategory\",\n",
    "            \"source\": \"from_json\",\n",
    "            \"spec\": \"[].__keys__[0]\"\n",
    "        },\n",
    "        {\n",
    "            \"column_name\": \"enviFlowName\",\n",
    "            \"source\": \"from_json\",\n",
    "            \"spec\": \"[].__keys__[0].[].enviFlow.flow.name\"\n",
    "        },\n",
    "        {\n",
    "            \"column_name\": \"enviFlowId\",\n",
    "            \"source\": \"from_json\",\n",
    "            \"spec\": \"[].__keys__[0].[].enviFlow.flow.@id\"\n",
    "        },\n",
    "        {\n",
    "            \"column_name\": \"enviFlowRefUnit\",\n",
    "            \"source\": \"from_json\",\n",
    "            \"spec\": \"[].__keys__[0].[].enviFlow.flow.refUnit\"\n",
    "        },\n",
    "        {\n",
    "            \"column_name\": \"enviFlowAmount\",\n",
    "            \"source\": \"from_json\",\n",
    "            \"spec\": \"[].__keys__[0].[].amount\"\n",
    "        }\n",
    "    ]\n",
    "}"
   ]
  },
  {
   "cell_type": "markdown",
   "id": "1ada5d99-cd3b-41c9-a17b-177083d8de30",
   "metadata": {
    "jp-MarkdownHeadingCollapsed": true,
    "tags": []
   },
   "source": [
    "### Production processes DataFrame definition"
   ]
  },
  {
   "cell_type": "code",
   "execution_count": 7,
   "id": "8b0782b3-b646-4ce6-adcf-066b602cb5cc",
   "metadata": {
    "tags": []
   },
   "outputs": [],
   "source": [
    "production_processes_df_definition = {\n",
    "    \"dataframe_name\": \"production_processes_df\",\n",
    "    \"creation_method\": \"read_from_json_files\",\n",
    "    \"input_dir\": input_dir,\n",
    "    \"file_selection_regex\": f\"^{regex_all_farms}-production$\",\n",
    "    \"columns\": [\n",
    "        {\n",
    "            \"column_name\": \"housingType\",\n",
    "            \"source\": \"from_filename\",\n",
    "            \"spec\": f\"^{spec_housing}-production$\"\n",
    "        },\n",
    "        {\n",
    "            \"column_name\": \"farmNumber\",\n",
    "            \"source\": \"from_filename\",\n",
    "            \"spec\": f\"^{spec_number}-production$\"\n",
    "        },\n",
    "        {\n",
    "            \"column_name\": \"UUID\",\n",
    "            \"source\": \"from_json\",\n",
    "            \"spec\": \"[].UUID dataset\"\n",
    "        },\n",
    "        {\n",
    "            \"column_name\": \"flowName\",\n",
    "            \"source\": \"from_json\",\n",
    "            \"spec\": \"[].flow name (optional)\"\n",
    "        },\n",
    "        {\n",
    "            \"column_name\": \"flowType\",\n",
    "            \"source\": \"from_json\",\n",
    "            \"spec\": \"[].type\"\n",
    "        },\n",
    "    ]\n",
    "}"
   ]
  },
  {
   "cell_type": "markdown",
   "id": "37c7fb7c-971e-4ed3-90b3-d21b1c53089a",
   "metadata": {
    "jp-MarkdownHeadingCollapsed": true,
    "tags": []
   },
   "source": [
    "### Combined flow impacts DataFrame definition"
   ]
  },
  {
   "cell_type": "code",
   "execution_count": 8,
   "id": "d39d10be-65f2-4477-a20b-bdb3bd954825",
   "metadata": {
    "tags": []
   },
   "outputs": [],
   "source": [
    "combined_flow_impacts_df_definition = {\n",
    "    \"dataframe_name\": \"combined_flow_impacts_df\",\n",
    "    \"creation_method\": \"merge\",\n",
    "    \"merge_how\": \"inner\",\n",
    "    \"left_dataframe\": \"production_processes_df\",\n",
    "    \"right_dataframe\": \"flow_impacts_df\",\n",
    "    \"left_merge_columns\": [\n",
    "        \"housingType\",\n",
    "        \"farmNumber\",\n",
    "        \"UUID\"\n",
    "    ],\n",
    "    \"right_merge_columns\": [\n",
    "        \"housingType\",\n",
    "        \"farmNumber\",\n",
    "        \"enviFlowId\"\n",
    "    ]\n",
    "}"
   ]
  },
  {
   "cell_type": "markdown",
   "id": "140f3b8c-ceae-45cd-aa56-ef36603aee76",
   "metadata": {
    "jp-MarkdownHeadingCollapsed": true,
    "tags": []
   },
   "source": [
    "## Append all DataFrame definitions into a list"
   ]
  },
  {
   "cell_type": "code",
   "execution_count": 9,
   "id": "8ffcf7d7-9a94-4ad4-9e18-be96c271443b",
   "metadata": {
    "tags": []
   },
   "outputs": [
    {
     "name": "stdout",
     "output_type": "stream",
     "text": [
      "Creating 6 DataFrames:\n",
      "  total_impacts_df\n",
      "  upstream_impacts_df\n",
      "  combined_upstream_impacts_df\n",
      "  flow_impacts_df\n",
      "  production_processes_df\n",
      "  combined_flow_impacts_df\n"
     ]
    }
   ],
   "source": [
    "dataframe_definition_list = []\n",
    "\n",
    "dataframe_definition_list.append(total_impacts_df_definition)\n",
    "dataframe_definition_list.append(upstream_impacts_df_definition)\n",
    "dataframe_definition_list.append(combined_upstream_impacts_df_definition)\n",
    "dataframe_definition_list.append(flow_impacts_df_definition)\n",
    "dataframe_definition_list.append(production_processes_df_definition)\n",
    "dataframe_definition_list.append(combined_flow_impacts_df_definition)\n",
    "\n",
    "print(f\"Creating {len(dataframe_definition_list)} DataFrames:\")\n",
    "for dataframe_definition in dataframe_definition_list:\n",
    "    print(f'  {dataframe_definition[\"dataframe_name\"]}')"
   ]
  },
  {
   "cell_type": "markdown",
   "id": "83f73011-880e-4737-81a7-06a6438aa59e",
   "metadata": {
    "jp-MarkdownHeadingCollapsed": true,
    "tags": []
   },
   "source": [
    "## Use the DataFrame definition list to ingest the JSON files and create the DataFrames\n",
    "* After running the cell below, the important result DataFrames are:\n",
    "  * dataframes[\"combined_upstream_impacts_df\"]\n",
    "  * dataframes[\"combined_flow_impacts_df\"]\n",
    "These are Pandas DataFrames and you can analyze and visualize this as you wish.  Example visualizations are given in subsequent cells.\n"
   ]
  },
  {
   "cell_type": "code",
   "execution_count": 10,
   "id": "1d77da58-4b08-4c7b-b91f-e7953dc3837c",
   "metadata": {
    "tags": []
   },
   "outputs": [
    {
     "name": "stdout",
     "output_type": "stream",
     "text": [
      "\n",
      "\n",
      "Dataframe total_impacts_df will be created from JSON files\n",
      "Processing Conventional egg production__Farm__A__003-with-elementary-flow-output.xlsx-result-total-impacts\n",
      "\n",
      "\n",
      "Dataframe upstream_impacts_df will be created from JSON files\n",
      "Processing Conventional egg production__Farm__A__003-with-elementary-flow-output.xlsx-result-upstream-of-impact-category\n",
      "\n",
      "\n",
      "Dataframe combined_upstream_impacts_df will be merged from total_impacts_df and upstream_impacts_df, merge_how: outer\n",
      "\n",
      "\n",
      "Dataframe flow_impacts_df will be created from JSON files\n",
      "Processing Conventional egg production__Farm__A__003-with-elementary-flow-output.xlsx-result-flows-of-impact-category\n",
      "\n",
      "\n",
      "Dataframe production_processes_df will be created from JSON files\n",
      "Processing Farm__A__003-with-elementary-flow-output.xlsx-production\n",
      "\n",
      "\n",
      "Dataframe combined_flow_impacts_df will be merged from production_processes_df and flow_impacts_df, merge_how: inner\n"
     ]
    }
   ],
   "source": [
    "dataframes = Ingestion.create_dataframes(dataframe_definition_list)"
   ]
  },
  {
   "cell_type": "markdown",
   "id": "479ad13b-2b09-4604-b175-7ebc085c89d5",
   "metadata": {
    "tags": []
   },
   "source": [
    "### Sanity check on the length of the DataFrame\n",
    "* you should be able to predict this from your specification in dataframe_creation_list"
   ]
  },
  {
   "cell_type": "code",
   "execution_count": null,
   "id": "b8338ab9-1b31-45a2-a366-7e9ea4b4d4c8",
   "metadata": {
    "tags": []
   },
   "outputs": [],
   "source": [
    "print(len(dataframes[\"combined_upstream_impacts_df\"]))\n",
    "print(len(dataframes[\"combined_flow_impacts_df\"]))\n",
    "# dataframes[\"combined_flow_impacts_df\"][0:120]"
   ]
  },
  {
   "cell_type": "code",
   "execution_count": 12,
   "id": "0ff184eb-5595-404c-93db-9228f94fedb0",
   "metadata": {
    "tags": []
   },
   "outputs": [],
   "source": [
    "# Extract the DataFrames of interest.\n",
    "#\n",
    "combined_upstream_impacts_df = dataframes[\"combined_upstream_impacts_df\"].copy()\n",
    "combined_flow_impacts_df = dataframes[\"combined_flow_impacts_df\"].copy()"
   ]
  },
  {
   "cell_type": "code",
   "execution_count": 13,
   "id": "90c37695",
   "metadata": {},
   "outputs": [],
   "source": [
    "# Add an error column, equal to 0.1 * upstreamFlowAmount, for testing\n",
    "#\n",
    "combined_upstream_impacts_df[\"error\"] = 0.1 * combined_upstream_impacts_df[\"upstreamFlowAmount\"]\n",
    "combined_flow_impacts_df[\"error\"] = 0.1 * combined_flow_impacts_df[\"enviFlowAmount\"]\n",
    "# combined_flow_impacts_df"
   ]
  },
  {
   "cell_type": "markdown",
   "id": "fd44e154-9457-4450-965c-8b32957f3e7a",
   "metadata": {
    "tags": []
   },
   "source": [
    "## Some DataFrame manipulation for analysis\n",
    "DataFrame manipulation is a bit tricky until you get used to it.  Here we will plot a stacked bar chart where:\n",
    "* the housing type is A\n",
    "* the impact category is Human toxicity - CML 2 baseline 2000\n",
    "* the impacts are stacked by upstream flow\n",
    "* there is one bar per farm\n",
    "* There is a single error bar at the top of each bar representing total uncertainty\n",
    "\n",
    "Let's look at this step by step."
   ]
  },
  {
   "cell_type": "markdown",
   "id": "92f38594-cb6e-4cbd-818c-33a426b38297",
   "metadata": {},
   "source": [
    "#### Filter on housing type\n",
    "*Note that in this example we are already filtered on housing type A because that was the only housing type represented in the input files.*\n",
    "\n",
    "Run the cell below."
   ]
  },
  {
   "cell_type": "code",
   "execution_count": 14,
   "id": "37f9c633-25aa-4fde-aae5-85998a48c69f",
   "metadata": {
    "tags": []
   },
   "outputs": [],
   "source": [
    "housing_type = \"A\"\n",
    "selected_upstream_impacts_df = combined_upstream_impacts_df.loc[combined_upstream_impacts_df[\"housingType\"] == housing_type]\n",
    "selected_flow_impacts_df = combined_flow_impacts_df.loc[combined_flow_impacts_df[\"housingType\"] == housing_type]"
   ]
  },
  {
   "cell_type": "markdown",
   "id": "88c578e2-172a-4917-a9f8-d1f5e7b60a15",
   "metadata": {
    "tags": []
   },
   "source": [
    "#### Filter on impact category\n",
    "Run the cell below."
   ]
  },
  {
   "cell_type": "code",
   "execution_count": 15,
   "id": "1fa3d4a1-e026-498c-9703-25110204fc27",
   "metadata": {
    "tags": []
   },
   "outputs": [
    {
     "data": {
      "text/html": [
       "<div>\n",
       "<style scoped>\n",
       "    .dataframe tbody tr th:only-of-type {\n",
       "        vertical-align: middle;\n",
       "    }\n",
       "\n",
       "    .dataframe tbody tr th {\n",
       "        vertical-align: top;\n",
       "    }\n",
       "\n",
       "    .dataframe thead th {\n",
       "        text-align: right;\n",
       "    }\n",
       "</style>\n",
       "<table border=\"1\" class=\"dataframe\">\n",
       "  <thead>\n",
       "    <tr style=\"text-align: right;\">\n",
       "      <th></th>\n",
       "      <th>housingType</th>\n",
       "      <th>farmNumber</th>\n",
       "      <th>UUID</th>\n",
       "      <th>flowName</th>\n",
       "      <th>flowType</th>\n",
       "      <th>impactCategory</th>\n",
       "      <th>enviFlowName</th>\n",
       "      <th>enviFlowId</th>\n",
       "      <th>enviFlowRefUnit</th>\n",
       "      <th>enviFlowAmount</th>\n",
       "      <th>error</th>\n",
       "    </tr>\n",
       "  </thead>\n",
       "  <tbody>\n",
       "    <tr>\n",
       "      <th>9</th>\n",
       "      <td>A</td>\n",
       "      <td>003</td>\n",
       "      <td>20185046-64bb-4c09-a8e7-e8a9e144ca98</td>\n",
       "      <td>Dinitrogen monoxide</td>\n",
       "      <td>ELEMENTARY_FLOW</td>\n",
       "      <td>Global warming (GWP100) - CML 2 baseline 2000</td>\n",
       "      <td>Dinitrogen monoxide</td>\n",
       "      <td>20185046-64bb-4c09-a8e7-e8a9e144ca98</td>\n",
       "      <td>kg</td>\n",
       "      <td>135.529122</td>\n",
       "      <td>13.552912</td>\n",
       "    </tr>\n",
       "    <tr>\n",
       "      <th>19</th>\n",
       "      <td>A</td>\n",
       "      <td>003</td>\n",
       "      <td>20408dd1-8534-11e0-9d78-0800200c9a66</td>\n",
       "      <td>Methane</td>\n",
       "      <td>ELEMENTARY_FLOW</td>\n",
       "      <td>Global warming (GWP100) - CML 2 baseline 2000</td>\n",
       "      <td>Methane</td>\n",
       "      <td>20408dd1-8534-11e0-9d78-0800200c9a66</td>\n",
       "      <td>kg</td>\n",
       "      <td>20.970693</td>\n",
       "      <td>2.097069</td>\n",
       "    </tr>\n",
       "  </tbody>\n",
       "</table>\n",
       "</div>"
      ],
      "text/plain": [
       "   housingType farmNumber                                  UUID  \\\n",
       "9            A        003  20185046-64bb-4c09-a8e7-e8a9e144ca98   \n",
       "19           A        003  20408dd1-8534-11e0-9d78-0800200c9a66   \n",
       "\n",
       "               flowName         flowType  \\\n",
       "9   Dinitrogen monoxide  ELEMENTARY_FLOW   \n",
       "19              Methane  ELEMENTARY_FLOW   \n",
       "\n",
       "                                   impactCategory         enviFlowName  \\\n",
       "9   Global warming (GWP100) - CML 2 baseline 2000  Dinitrogen monoxide   \n",
       "19  Global warming (GWP100) - CML 2 baseline 2000              Methane   \n",
       "\n",
       "                              enviFlowId enviFlowRefUnit  enviFlowAmount  \\\n",
       "9   20185046-64bb-4c09-a8e7-e8a9e144ca98              kg      135.529122   \n",
       "19  20408dd1-8534-11e0-9d78-0800200c9a66              kg       20.970693   \n",
       "\n",
       "        error  \n",
       "9   13.552912  \n",
       "19   2.097069  "
      ]
     },
     "execution_count": 15,
     "metadata": {},
     "output_type": "execute_result"
    }
   ],
   "source": [
    "impact_category = \"Global warming (GWP100) - CML 2 baseline 2000\"\n",
    "selected_upstream_impacts_df = selected_upstream_impacts_df.loc[selected_upstream_impacts_df[\"impactCategory\"] == impact_category]\n",
    "selected_flow_impacts_df = selected_flow_impacts_df.loc[selected_flow_impacts_df[\"impactCategory\"] == impact_category]\n",
    "selected_flow_impacts_df"
   ]
  },
  {
   "cell_type": "markdown",
   "id": "71776970-6b9d-4434-8e5d-b80cd409366a",
   "metadata": {},
   "source": [
    "#### Get a list of upstream flows\n",
    "We will use this list to break the full DataFrame into multiple DataFrames, one per upstream flow.\n",
    "\n",
    "Run the cell below."
   ]
  },
  {
   "cell_type": "code",
   "execution_count": 16,
   "id": "ecb588bb-e032-4b77-a529-bb676e9fe273",
   "metadata": {
    "tags": []
   },
   "outputs": [
    {
     "data": {
      "text/plain": [
       "array(['Feed - layer', 'Pullets-conventional', 'Poultry Manure',\n",
       "       'electricity, medium voltage',\n",
       "       'transport, freight, lorry 16-32 metric ton, EURO6',\n",
       "       'heat, central or small-scale, natural gas', 'tap water',\n",
       "       'Diesel equipment (BTU) 2010 System',\n",
       "       'petrol, unleaded, burned in machinery', 'liquefied petroleum gas',\n",
       "       'light fuel oil', 'transport, tractor and trailer, agricultural'],\n",
       "      dtype=object)"
      ]
     },
     "execution_count": 16,
     "metadata": {},
     "output_type": "execute_result"
    }
   ],
   "source": [
    "upstream_flow_list = selected_upstream_impacts_df[\"upstreamFlow\"].unique()\n",
    "upstream_flow_list"
   ]
  },
  {
   "cell_type": "code",
   "execution_count": 17,
   "id": "98d0482c-e1b2-4b0e-ab3e-1e89030b991e",
   "metadata": {
    "tags": []
   },
   "outputs": [
    {
     "data": {
      "text/plain": [
       "array(['Dinitrogen monoxide', 'Methane'], dtype=object)"
      ]
     },
     "execution_count": 17,
     "metadata": {},
     "output_type": "execute_result"
    }
   ],
   "source": [
    "elementary_flow_list = selected_flow_impacts_df[\"flowName\"].unique()\n",
    "elementary_flow_list"
   ]
  },
  {
   "cell_type": "markdown",
   "id": "a029542d-a1c7-466a-8e94-edf92fdbf6fc",
   "metadata": {},
   "source": [
    "#### Get information for labelling\n",
    "We are getting the ref_unit and bar tags.  In this case the bar tag is the farm number.  It is used for positioning and labelling the x-axis of the bar.\n",
    "\n",
    "*Note that we take a copy of the DataFrame and work with the copy.  In general, Pandas does not like to read and write a DataFrame at the same time for data consistency.  So, it is good practice to take a copy.  You'll get a warning whenever Pandas thinks there is a problem.*\n",
    "\n",
    "Run the cell below."
   ]
  },
  {
   "cell_type": "code",
   "execution_count": 18,
   "id": "a9d225dd-3bb3-4ff1-91c6-f657d3c43b6a",
   "metadata": {
    "tags": []
   },
   "outputs": [
    {
     "name": "stdout",
     "output_type": "stream",
     "text": [
      "ref_unit: kg CO2 eq\n"
     ]
    },
    {
     "data": {
      "text/html": [
       "<div>\n",
       "<style scoped>\n",
       "    .dataframe tbody tr th:only-of-type {\n",
       "        vertical-align: middle;\n",
       "    }\n",
       "\n",
       "    .dataframe tbody tr th {\n",
       "        vertical-align: top;\n",
       "    }\n",
       "\n",
       "    .dataframe thead th {\n",
       "        text-align: right;\n",
       "    }\n",
       "</style>\n",
       "<table border=\"1\" class=\"dataframe\">\n",
       "  <thead>\n",
       "    <tr style=\"text-align: right;\">\n",
       "      <th></th>\n",
       "      <th>housingType</th>\n",
       "      <th>farmNumber</th>\n",
       "      <th>impactCategory</th>\n",
       "      <th>amount</th>\n",
       "      <th>refUnit</th>\n",
       "      <th>upstreamFlow</th>\n",
       "      <th>upstreamFlowAmount</th>\n",
       "      <th>error</th>\n",
       "      <th>bar_tag</th>\n",
       "    </tr>\n",
       "  </thead>\n",
       "  <tbody>\n",
       "    <tr>\n",
       "      <th>108</th>\n",
       "      <td>A</td>\n",
       "      <td>003</td>\n",
       "      <td>Global warming (GWP100) - CML 2 baseline 2000</td>\n",
       "      <td>157.468666</td>\n",
       "      <td>kg CO2 eq</td>\n",
       "      <td>Feed - layer</td>\n",
       "      <td>1.440268e+00</td>\n",
       "      <td>1.440268e-01</td>\n",
       "      <td>003</td>\n",
       "    </tr>\n",
       "    <tr>\n",
       "      <th>109</th>\n",
       "      <td>A</td>\n",
       "      <td>003</td>\n",
       "      <td>Global warming (GWP100) - CML 2 baseline 2000</td>\n",
       "      <td>157.468666</td>\n",
       "      <td>kg CO2 eq</td>\n",
       "      <td>Pullets-conventional</td>\n",
       "      <td>2.871787e-01</td>\n",
       "      <td>2.871787e-02</td>\n",
       "      <td>003</td>\n",
       "    </tr>\n",
       "    <tr>\n",
       "      <th>110</th>\n",
       "      <td>A</td>\n",
       "      <td>003</td>\n",
       "      <td>Global warming (GWP100) - CML 2 baseline 2000</td>\n",
       "      <td>157.468666</td>\n",
       "      <td>kg CO2 eq</td>\n",
       "      <td>Poultry Manure</td>\n",
       "      <td>2.296386e-01</td>\n",
       "      <td>2.296386e-02</td>\n",
       "      <td>003</td>\n",
       "    </tr>\n",
       "    <tr>\n",
       "      <th>111</th>\n",
       "      <td>A</td>\n",
       "      <td>003</td>\n",
       "      <td>Global warming (GWP100) - CML 2 baseline 2000</td>\n",
       "      <td>157.468666</td>\n",
       "      <td>kg CO2 eq</td>\n",
       "      <td>electricity, medium voltage</td>\n",
       "      <td>3.402168e-02</td>\n",
       "      <td>3.402168e-03</td>\n",
       "      <td>003</td>\n",
       "    </tr>\n",
       "    <tr>\n",
       "      <th>112</th>\n",
       "      <td>A</td>\n",
       "      <td>003</td>\n",
       "      <td>Global warming (GWP100) - CML 2 baseline 2000</td>\n",
       "      <td>157.468666</td>\n",
       "      <td>kg CO2 eq</td>\n",
       "      <td>transport, freight, lorry 16-32 metric ton, EURO6</td>\n",
       "      <td>1.792197e-02</td>\n",
       "      <td>1.792197e-03</td>\n",
       "      <td>003</td>\n",
       "    </tr>\n",
       "    <tr>\n",
       "      <th>113</th>\n",
       "      <td>A</td>\n",
       "      <td>003</td>\n",
       "      <td>Global warming (GWP100) - CML 2 baseline 2000</td>\n",
       "      <td>157.468666</td>\n",
       "      <td>kg CO2 eq</td>\n",
       "      <td>heat, central or small-scale, natural gas</td>\n",
       "      <td>1.680299e-03</td>\n",
       "      <td>1.680299e-04</td>\n",
       "      <td>003</td>\n",
       "    </tr>\n",
       "    <tr>\n",
       "      <th>114</th>\n",
       "      <td>A</td>\n",
       "      <td>003</td>\n",
       "      <td>Global warming (GWP100) - CML 2 baseline 2000</td>\n",
       "      <td>157.468666</td>\n",
       "      <td>kg CO2 eq</td>\n",
       "      <td>tap water</td>\n",
       "      <td>5.989913e-04</td>\n",
       "      <td>5.989913e-05</td>\n",
       "      <td>003</td>\n",
       "    </tr>\n",
       "    <tr>\n",
       "      <th>115</th>\n",
       "      <td>A</td>\n",
       "      <td>003</td>\n",
       "      <td>Global warming (GWP100) - CML 2 baseline 2000</td>\n",
       "      <td>157.468666</td>\n",
       "      <td>kg CO2 eq</td>\n",
       "      <td>Diesel equipment (BTU) 2010 System</td>\n",
       "      <td>4.971678e-04</td>\n",
       "      <td>4.971678e-05</td>\n",
       "      <td>003</td>\n",
       "    </tr>\n",
       "    <tr>\n",
       "      <th>116</th>\n",
       "      <td>A</td>\n",
       "      <td>003</td>\n",
       "      <td>Global warming (GWP100) - CML 2 baseline 2000</td>\n",
       "      <td>157.468666</td>\n",
       "      <td>kg CO2 eq</td>\n",
       "      <td>petrol, unleaded, burned in machinery</td>\n",
       "      <td>3.727280e-04</td>\n",
       "      <td>3.727280e-05</td>\n",
       "      <td>003</td>\n",
       "    </tr>\n",
       "    <tr>\n",
       "      <th>117</th>\n",
       "      <td>A</td>\n",
       "      <td>003</td>\n",
       "      <td>Global warming (GWP100) - CML 2 baseline 2000</td>\n",
       "      <td>157.468666</td>\n",
       "      <td>kg CO2 eq</td>\n",
       "      <td>liquefied petroleum gas</td>\n",
       "      <td>2.403711e-05</td>\n",
       "      <td>2.403711e-06</td>\n",
       "      <td>003</td>\n",
       "    </tr>\n",
       "    <tr>\n",
       "      <th>118</th>\n",
       "      <td>A</td>\n",
       "      <td>003</td>\n",
       "      <td>Global warming (GWP100) - CML 2 baseline 2000</td>\n",
       "      <td>157.468666</td>\n",
       "      <td>kg CO2 eq</td>\n",
       "      <td>light fuel oil</td>\n",
       "      <td>1.147939e-05</td>\n",
       "      <td>1.147939e-06</td>\n",
       "      <td>003</td>\n",
       "    </tr>\n",
       "    <tr>\n",
       "      <th>119</th>\n",
       "      <td>A</td>\n",
       "      <td>003</td>\n",
       "      <td>Global warming (GWP100) - CML 2 baseline 2000</td>\n",
       "      <td>157.468666</td>\n",
       "      <td>kg CO2 eq</td>\n",
       "      <td>transport, tractor and trailer, agricultural</td>\n",
       "      <td>3.352155e-07</td>\n",
       "      <td>3.352155e-08</td>\n",
       "      <td>003</td>\n",
       "    </tr>\n",
       "  </tbody>\n",
       "</table>\n",
       "</div>"
      ],
      "text/plain": [
       "    housingType farmNumber                                 impactCategory  \\\n",
       "108           A        003  Global warming (GWP100) - CML 2 baseline 2000   \n",
       "109           A        003  Global warming (GWP100) - CML 2 baseline 2000   \n",
       "110           A        003  Global warming (GWP100) - CML 2 baseline 2000   \n",
       "111           A        003  Global warming (GWP100) - CML 2 baseline 2000   \n",
       "112           A        003  Global warming (GWP100) - CML 2 baseline 2000   \n",
       "113           A        003  Global warming (GWP100) - CML 2 baseline 2000   \n",
       "114           A        003  Global warming (GWP100) - CML 2 baseline 2000   \n",
       "115           A        003  Global warming (GWP100) - CML 2 baseline 2000   \n",
       "116           A        003  Global warming (GWP100) - CML 2 baseline 2000   \n",
       "117           A        003  Global warming (GWP100) - CML 2 baseline 2000   \n",
       "118           A        003  Global warming (GWP100) - CML 2 baseline 2000   \n",
       "119           A        003  Global warming (GWP100) - CML 2 baseline 2000   \n",
       "\n",
       "         amount    refUnit                                       upstreamFlow  \\\n",
       "108  157.468666  kg CO2 eq                                       Feed - layer   \n",
       "109  157.468666  kg CO2 eq                               Pullets-conventional   \n",
       "110  157.468666  kg CO2 eq                                     Poultry Manure   \n",
       "111  157.468666  kg CO2 eq                        electricity, medium voltage   \n",
       "112  157.468666  kg CO2 eq  transport, freight, lorry 16-32 metric ton, EURO6   \n",
       "113  157.468666  kg CO2 eq          heat, central or small-scale, natural gas   \n",
       "114  157.468666  kg CO2 eq                                          tap water   \n",
       "115  157.468666  kg CO2 eq                 Diesel equipment (BTU) 2010 System   \n",
       "116  157.468666  kg CO2 eq              petrol, unleaded, burned in machinery   \n",
       "117  157.468666  kg CO2 eq                            liquefied petroleum gas   \n",
       "118  157.468666  kg CO2 eq                                     light fuel oil   \n",
       "119  157.468666  kg CO2 eq       transport, tractor and trailer, agricultural   \n",
       "\n",
       "     upstreamFlowAmount         error bar_tag  \n",
       "108        1.440268e+00  1.440268e-01     003  \n",
       "109        2.871787e-01  2.871787e-02     003  \n",
       "110        2.296386e-01  2.296386e-02     003  \n",
       "111        3.402168e-02  3.402168e-03     003  \n",
       "112        1.792197e-02  1.792197e-03     003  \n",
       "113        1.680299e-03  1.680299e-04     003  \n",
       "114        5.989913e-04  5.989913e-05     003  \n",
       "115        4.971678e-04  4.971678e-05     003  \n",
       "116        3.727280e-04  3.727280e-05     003  \n",
       "117        2.403711e-05  2.403711e-06     003  \n",
       "118        1.147939e-05  1.147939e-06     003  \n",
       "119        3.352155e-07  3.352155e-08     003  "
      ]
     },
     "execution_count": 18,
     "metadata": {},
     "output_type": "execute_result"
    }
   ],
   "source": [
    "ref_unit = selected_upstream_impacts_df[\"refUnit\"].iloc[0]\n",
    "tagged_upstream_impacts_df = selected_upstream_impacts_df.copy()\n",
    "tagged_upstream_impacts_df[\"bar_tag\"] = selected_upstream_impacts_df[\"farmNumber\"]\n",
    "print(f\"ref_unit: {ref_unit}\")\n",
    "tagged_upstream_impacts_df"
   ]
  },
  {
   "cell_type": "code",
   "execution_count": 19,
   "id": "ff219a5c-902e-40fe-8111-20c602b300b0",
   "metadata": {
    "tags": []
   },
   "outputs": [
    {
     "data": {
      "text/html": [
       "<div>\n",
       "<style scoped>\n",
       "    .dataframe tbody tr th:only-of-type {\n",
       "        vertical-align: middle;\n",
       "    }\n",
       "\n",
       "    .dataframe tbody tr th {\n",
       "        vertical-align: top;\n",
       "    }\n",
       "\n",
       "    .dataframe thead th {\n",
       "        text-align: right;\n",
       "    }\n",
       "</style>\n",
       "<table border=\"1\" class=\"dataframe\">\n",
       "  <thead>\n",
       "    <tr style=\"text-align: right;\">\n",
       "      <th></th>\n",
       "      <th>housingType</th>\n",
       "      <th>farmNumber</th>\n",
       "      <th>UUID</th>\n",
       "      <th>flowName</th>\n",
       "      <th>flowType</th>\n",
       "      <th>impactCategory</th>\n",
       "      <th>enviFlowName</th>\n",
       "      <th>enviFlowId</th>\n",
       "      <th>enviFlowRefUnit</th>\n",
       "      <th>enviFlowAmount</th>\n",
       "      <th>error</th>\n",
       "      <th>bar_tag</th>\n",
       "    </tr>\n",
       "  </thead>\n",
       "  <tbody>\n",
       "    <tr>\n",
       "      <th>9</th>\n",
       "      <td>A</td>\n",
       "      <td>003</td>\n",
       "      <td>20185046-64bb-4c09-a8e7-e8a9e144ca98</td>\n",
       "      <td>Dinitrogen monoxide</td>\n",
       "      <td>ELEMENTARY_FLOW</td>\n",
       "      <td>Global warming (GWP100) - CML 2 baseline 2000</td>\n",
       "      <td>Dinitrogen monoxide</td>\n",
       "      <td>20185046-64bb-4c09-a8e7-e8a9e144ca98</td>\n",
       "      <td>kg</td>\n",
       "      <td>135.529122</td>\n",
       "      <td>13.552912</td>\n",
       "      <td>003</td>\n",
       "    </tr>\n",
       "    <tr>\n",
       "      <th>19</th>\n",
       "      <td>A</td>\n",
       "      <td>003</td>\n",
       "      <td>20408dd1-8534-11e0-9d78-0800200c9a66</td>\n",
       "      <td>Methane</td>\n",
       "      <td>ELEMENTARY_FLOW</td>\n",
       "      <td>Global warming (GWP100) - CML 2 baseline 2000</td>\n",
       "      <td>Methane</td>\n",
       "      <td>20408dd1-8534-11e0-9d78-0800200c9a66</td>\n",
       "      <td>kg</td>\n",
       "      <td>20.970693</td>\n",
       "      <td>2.097069</td>\n",
       "      <td>003</td>\n",
       "    </tr>\n",
       "  </tbody>\n",
       "</table>\n",
       "</div>"
      ],
      "text/plain": [
       "   housingType farmNumber                                  UUID  \\\n",
       "9            A        003  20185046-64bb-4c09-a8e7-e8a9e144ca98   \n",
       "19           A        003  20408dd1-8534-11e0-9d78-0800200c9a66   \n",
       "\n",
       "               flowName         flowType  \\\n",
       "9   Dinitrogen monoxide  ELEMENTARY_FLOW   \n",
       "19              Methane  ELEMENTARY_FLOW   \n",
       "\n",
       "                                   impactCategory         enviFlowName  \\\n",
       "9   Global warming (GWP100) - CML 2 baseline 2000  Dinitrogen monoxide   \n",
       "19  Global warming (GWP100) - CML 2 baseline 2000              Methane   \n",
       "\n",
       "                              enviFlowId enviFlowRefUnit  enviFlowAmount  \\\n",
       "9   20185046-64bb-4c09-a8e7-e8a9e144ca98              kg      135.529122   \n",
       "19  20408dd1-8534-11e0-9d78-0800200c9a66              kg       20.970693   \n",
       "\n",
       "        error bar_tag  \n",
       "9   13.552912     003  \n",
       "19   2.097069     003  "
      ]
     },
     "execution_count": 19,
     "metadata": {},
     "output_type": "execute_result"
    }
   ],
   "source": [
    "tagged_flow_impacts_df = selected_flow_impacts_df.copy()\n",
    "tagged_flow_impacts_df[\"bar_tag\"] = selected_flow_impacts_df[\"farmNumber\"]\n",
    "tagged_flow_impacts_df"
   ]
  },
  {
   "cell_type": "markdown",
   "id": "b27632b0-f9b3-4f62-abe1-23e357b31107",
   "metadata": {},
   "source": [
    "#### Split the full DataFrames by upstream flow\n",
    "Run the cells below."
   ]
  },
  {
   "cell_type": "code",
   "execution_count": 20,
   "id": "9b1f68b8-fdc5-4fdc-af7e-4543c07759f1",
   "metadata": {
    "tags": []
   },
   "outputs": [
    {
     "name": "stdout",
     "output_type": "stream",
     "text": [
      "There are now 12 upstream flow DataFrames:\n",
      "  - Feed - layer\n",
      "  - Pullets-conventional\n",
      "  - Poultry Manure\n",
      "  - electricity, medium voltage\n",
      "  - transport, freight, lorry 16-32 metric ton, EURO6\n",
      "  - heat, central or small-scale, natural gas\n",
      "  - tap water\n",
      "  - Diesel equipment (BTU) 2010 System\n",
      "  - petrol, unleaded, burned in machinery\n",
      "  - liquefied petroleum gas\n",
      "  - light fuel oil\n",
      "  - transport, tractor and trailer, agricultural\n",
      " \n",
      "For example, the tap water DataFrame:\n"
     ]
    },
    {
     "data": {
      "text/html": [
       "<div>\n",
       "<style scoped>\n",
       "    .dataframe tbody tr th:only-of-type {\n",
       "        vertical-align: middle;\n",
       "    }\n",
       "\n",
       "    .dataframe tbody tr th {\n",
       "        vertical-align: top;\n",
       "    }\n",
       "\n",
       "    .dataframe thead th {\n",
       "        text-align: right;\n",
       "    }\n",
       "</style>\n",
       "<table border=\"1\" class=\"dataframe\">\n",
       "  <thead>\n",
       "    <tr style=\"text-align: right;\">\n",
       "      <th></th>\n",
       "      <th>index</th>\n",
       "      <th>housingType</th>\n",
       "      <th>farmNumber</th>\n",
       "      <th>impactCategory</th>\n",
       "      <th>amount</th>\n",
       "      <th>refUnit</th>\n",
       "      <th>upstreamFlow</th>\n",
       "      <th>upstreamFlowAmount</th>\n",
       "      <th>error</th>\n",
       "      <th>bar_tag</th>\n",
       "    </tr>\n",
       "  </thead>\n",
       "  <tbody>\n",
       "    <tr>\n",
       "      <th>0</th>\n",
       "      <td>114</td>\n",
       "      <td>A</td>\n",
       "      <td>003</td>\n",
       "      <td>Global warming (GWP100) - CML 2 baseline 2000</td>\n",
       "      <td>157.468666</td>\n",
       "      <td>kg CO2 eq</td>\n",
       "      <td>tap water</td>\n",
       "      <td>0.000599</td>\n",
       "      <td>0.00006</td>\n",
       "      <td>003</td>\n",
       "    </tr>\n",
       "  </tbody>\n",
       "</table>\n",
       "</div>"
      ],
      "text/plain": [
       "   index housingType farmNumber  \\\n",
       "0    114           A        003   \n",
       "\n",
       "                                  impactCategory      amount    refUnit  \\\n",
       "0  Global warming (GWP100) - CML 2 baseline 2000  157.468666  kg CO2 eq   \n",
       "\n",
       "  upstreamFlow  upstreamFlowAmount    error bar_tag  \n",
       "0    tap water            0.000599  0.00006     003  "
      ]
     },
     "execution_count": 20,
     "metadata": {},
     "output_type": "execute_result"
    }
   ],
   "source": [
    "upstream_flow_dataframes = {}\n",
    "for upstream_flow in upstream_flow_list:\n",
    "    upstream_flow_dataframes[upstream_flow] = tagged_upstream_impacts_df.loc[tagged_upstream_impacts_df[\"upstreamFlow\"] == upstream_flow].reset_index()\n",
    "\n",
    "print(f\"There are now {len(upstream_flow_dataframes)} upstream flow DataFrames:\")\n",
    "for key in upstream_flow_dataframes:\n",
    "    print(f\"  - {key}\")\n",
    "\n",
    "example_upstream_flow = 'tap water'\n",
    "print(\" \")\n",
    "print(f\"For example, the {example_upstream_flow} DataFrame:\")\n",
    "upstream_flow_dataframes[example_upstream_flow]"
   ]
  },
  {
   "cell_type": "markdown",
   "id": "68918072-db67-4574-b42d-406dc7cd8f8a",
   "metadata": {
    "tags": []
   },
   "source": [
    "#### Do the same split for elementary flows\n",
    "Run the cells below."
   ]
  },
  {
   "cell_type": "code",
   "execution_count": 21,
   "id": "ffbbfe8f-c78f-4d42-bd0e-1a3c5f982b6b",
   "metadata": {
    "tags": []
   },
   "outputs": [
    {
     "name": "stdout",
     "output_type": "stream",
     "text": [
      "There are now 2 environmental flow DataFrames:\n",
      "  - Dinitrogen monoxide\n",
      "  - Methane\n",
      " \n",
      "For example, the Methane DataFrame:\n"
     ]
    },
    {
     "data": {
      "text/html": [
       "<div>\n",
       "<style scoped>\n",
       "    .dataframe tbody tr th:only-of-type {\n",
       "        vertical-align: middle;\n",
       "    }\n",
       "\n",
       "    .dataframe tbody tr th {\n",
       "        vertical-align: top;\n",
       "    }\n",
       "\n",
       "    .dataframe thead th {\n",
       "        text-align: right;\n",
       "    }\n",
       "</style>\n",
       "<table border=\"1\" class=\"dataframe\">\n",
       "  <thead>\n",
       "    <tr style=\"text-align: right;\">\n",
       "      <th></th>\n",
       "      <th>index</th>\n",
       "      <th>housingType</th>\n",
       "      <th>farmNumber</th>\n",
       "      <th>UUID</th>\n",
       "      <th>flowName</th>\n",
       "      <th>flowType</th>\n",
       "      <th>impactCategory</th>\n",
       "      <th>enviFlowName</th>\n",
       "      <th>enviFlowId</th>\n",
       "      <th>enviFlowRefUnit</th>\n",
       "      <th>enviFlowAmount</th>\n",
       "      <th>error</th>\n",
       "      <th>bar_tag</th>\n",
       "    </tr>\n",
       "  </thead>\n",
       "  <tbody>\n",
       "    <tr>\n",
       "      <th>0</th>\n",
       "      <td>19</td>\n",
       "      <td>A</td>\n",
       "      <td>003</td>\n",
       "      <td>20408dd1-8534-11e0-9d78-0800200c9a66</td>\n",
       "      <td>Methane</td>\n",
       "      <td>ELEMENTARY_FLOW</td>\n",
       "      <td>Global warming (GWP100) - CML 2 baseline 2000</td>\n",
       "      <td>Methane</td>\n",
       "      <td>20408dd1-8534-11e0-9d78-0800200c9a66</td>\n",
       "      <td>kg</td>\n",
       "      <td>20.970693</td>\n",
       "      <td>2.097069</td>\n",
       "      <td>003</td>\n",
       "    </tr>\n",
       "  </tbody>\n",
       "</table>\n",
       "</div>"
      ],
      "text/plain": [
       "   index housingType farmNumber                                  UUID  \\\n",
       "0     19           A        003  20408dd1-8534-11e0-9d78-0800200c9a66   \n",
       "\n",
       "  flowName         flowType                                 impactCategory  \\\n",
       "0  Methane  ELEMENTARY_FLOW  Global warming (GWP100) - CML 2 baseline 2000   \n",
       "\n",
       "  enviFlowName                            enviFlowId enviFlowRefUnit  \\\n",
       "0      Methane  20408dd1-8534-11e0-9d78-0800200c9a66              kg   \n",
       "\n",
       "   enviFlowAmount     error bar_tag  \n",
       "0       20.970693  2.097069     003  "
      ]
     },
     "execution_count": 21,
     "metadata": {},
     "output_type": "execute_result"
    }
   ],
   "source": [
    "elementary_flow_dataframes = {}\n",
    "for elementary_flow in elementary_flow_list:\n",
    "    elementary_flow_dataframes[elementary_flow] = tagged_flow_impacts_df.loc[tagged_flow_impacts_df[\"enviFlowName\"] == elementary_flow].reset_index()\n",
    "\n",
    "print(f\"There are now {len(elementary_flow_dataframes)} environmental flow DataFrames:\")\n",
    "for key in elementary_flow_dataframes:\n",
    "    print(f\"  - {key}\")\n",
    "\n",
    "example_elementary_flow = 'Methane'\n",
    "print(\" \")\n",
    "print(f\"For example, the {example_elementary_flow} DataFrame:\")\n",
    "elementary_flow_dataframes[example_elementary_flow]"
   ]
  },
  {
   "cell_type": "markdown",
   "id": "d504b1b4",
   "metadata": {},
   "source": [
    "### Now the actual plotting\n",
    "**The following link is GOLD for examples of how to do plotting:**\n",
    "\n",
    ">__[matplotlib gallery](https://matplotlib.org/stable/gallery/index.html)__"
   ]
  },
  {
   "cell_type": "markdown",
   "id": "dabcf4dc-f1d8-4102-85be-7ea35c6e3165",
   "metadata": {},
   "source": [
    "#### The stacked bar plot without a legend.\n",
    "Loop through the upstream flows, for each:\n",
    "* set the bottom of the bar segment to the top of the previous (0 for the first)\n",
    "* set the top of the bar segment to the bottom plus the upstream flow amount\n",
    "* add that bar segment to the plot, each bar segment added will have its own color (the legend will be dealt with later)\n",
    "* keep a running total of the error\n",
    "* for the last bar segment, plot the cumulative error bar\n",
    "\n",
    "Note that this is being done for all farms simultaneously.\n",
    "\n",
    "And, finally, do the labelling."
   ]
  },
  {
   "cell_type": "code",
   "execution_count": 22,
   "id": "862e700b",
   "metadata": {},
   "outputs": [
    {
     "name": "stdout",
     "output_type": "stream",
     "text": [
      "Feed - layer\n",
      "Pullets-conventional\n",
      "Poultry Manure\n",
      "electricity, medium voltage\n",
      "transport, freight, lorry 16-32 metric ton, EURO6\n",
      "heat, central or small-scale, natural gas\n",
      "tap water\n",
      "Diesel equipment (BTU) 2010 System\n",
      "petrol, unleaded, burned in machinery\n",
      "liquefied petroleum gas\n",
      "light fuel oil\n",
      "transport, tractor and trailer, agricultural\n",
      "Dinitrogen monoxide\n",
      "Methane\n"
     ]
    },
    {
     "data": {
      "image/png": "[encoded data removed]",
      "text/plain": [
       "<Figure size 1200x800 with 1 Axes>"
      ]
     },
     "metadata": {},
     "output_type": "display_data"
    }
   ],
   "source": [
    "# This is for the plot without the legend\n",
    "\n",
    "import pandas as pd\n",
    "import matplotlib.pyplot as plt\n",
    "from matplotlib.axes import Axes\n",
    "\n",
    "cumval=None\n",
    "fig, ax = plt.subplots(figsize=(12,8))\n",
    "\n",
    "# Upstream flows\n",
    "for upstream_flow in upstream_flow_list:\n",
    "    print(upstream_flow)\n",
    "    upstream_flow_df = upstream_flow_dataframes[upstream_flow]\n",
    "    \n",
    "    if cumval is None:\n",
    "        cumval = pd.DataFrame()\n",
    "        cumval[\"bottom\"] = upstream_flow_df[\"upstreamFlowAmount\"] * 0\n",
    "        cumval[\"error\"] = upstream_flow_df[\"error\"]\n",
    "\n",
    "    # plot bar without error\n",
    "    plt.bar(\n",
    "        x=upstream_flow_df[\"bar_tag\"], \n",
    "        height=upstream_flow_df[\"upstreamFlowAmount\"], \n",
    "        bottom=cumval[\"bottom\"],\n",
    "    )\n",
    "\n",
    "    cumval[\"bottom\"] = cumval[\"bottom\"].add(upstream_flow_df[\"upstreamFlowAmount\"])\n",
    "    cumval[\"error\"] = cumval[\"error\"].add(upstream_flow_df[\"error\"])\n",
    "\n",
    "# Environmental flows\n",
    "flow_count = len(elementary_flow_list)\n",
    "flow_index = 0\n",
    "for elementary_flow in elementary_flow_list:\n",
    "    print(elementary_flow)\n",
    "    elementary_flow_df = elementary_flow_dataframes[elementary_flow]\n",
    "    \n",
    "    if cumval is None:\n",
    "        cumval = pd.DataFrame()\n",
    "        cumval[\"bottom\"] = elementary_flow_df[\"enviFlowAmount\"] * 0\n",
    "        cumval[\"error\"] = elementary_flow_df[\"error\"]\n",
    "    if flow_index < flow_count - 1:\n",
    "        # for all flows but the last, plot bar without error\n",
    "        plt.bar(\n",
    "            x=elementary_flow_df[\"bar_tag\"], \n",
    "            height=elementary_flow_df[\"enviFlowAmount\"], \n",
    "            bottom=cumval[\"bottom\"],\n",
    "        )\n",
    "    else:\n",
    "        # for last flow, plot bar with error\n",
    "        plt.bar(\n",
    "            x=elementary_flow_df[\"bar_tag\"], \n",
    "            height=elementary_flow_df[\"enviFlowAmount\"], \n",
    "            bottom=cumval[\"bottom\"], \n",
    "            yerr=cumval[\"error\"], align='center', ecolor='gray', capsize=4\n",
    "        )\n",
    "\n",
    "    cumval[\"bottom\"] = cumval[\"bottom\"].add(elementary_flow_df[\"enviFlowAmount\"])\n",
    "    cumval[\"error\"] = cumval[\"error\"].add(elementary_flow_df[\"error\"])\n",
    "    flow_index += 1\n",
    "\n",
    "_ = plt.xticks(rotation=30)\n",
    "ax.set_xlabel(\"Farm number\")\n",
    "ax.set_ylabel(f\"{impact_category} ({ref_unit})\")\n",
    "ax.set_title(f\"Upstream and environmental flow impacts for housing type {housing_type} by farm number\")\n",
    "\n",
    "plt.show()"
   ]
  },
  {
   "cell_type": "markdown",
   "id": "8e7811df-9170-453f-9165-19f3a35513d1",
   "metadata": {},
   "source": [
    "#### The legend.\n",
    "This is done in a manner similar to the real plot.  It is just that the bar segments all have 0 height.  Also, the legend is exported as a JPEG to file."
   ]
  },
  {
   "cell_type": "code",
   "execution_count": 23,
   "id": "c859421d-04ff-4f2b-a8ad-d0c31d3f19b9",
   "metadata": {
    "tags": []
   },
   "outputs": [
    {
     "name": "stdout",
     "output_type": "stream",
     "text": [
      "\n",
      "The legend without the bounding box is in the file: legend.png\n"
     ]
    },
    {
     "data": {
      "image/png": "[encoded data removed]",
      "text/plain": [
       "<Figure size 1200x800 with 1 Axes>"
      ]
     },
     "metadata": {},
     "output_type": "display_data"
    }
   ],
   "source": [
    "# This is for a separate legend\n",
    "\n",
    "import pandas as pd\n",
    "import matplotlib.pyplot as plt\n",
    "\n",
    "def export_legend(legend, filename=\"legend.png\"):\n",
    "    fig  = legend.figure\n",
    "    fig.canvas.draw()\n",
    "    bbox  = legend.get_window_extent().transformed(fig.dpi_scale_trans.inverted())\n",
    "    fig.savefig(filename, dpi=\"figure\", bbox_inches=bbox)\n",
    "\n",
    "cumval=None\n",
    "fig = plt.figure(figsize=(12,8))\n",
    "for upstream_flow in upstream_flow_list:\n",
    "    upstream_flow_df = upstream_flow_dataframes[upstream_flow]\n",
    "    if cumval is None:\n",
    "        cumval = pd.DataFrame()\n",
    "        cumval[\"bottom\"] = upstream_flow_df[\"upstreamFlowAmount\"] * 0\n",
    "    plt.bar(x=upstream_flow_df[\"bar_tag\"], height=cumval[\"bottom\"], bottom=cumval[\"bottom\"], label=upstream_flow)\n",
    "\n",
    "for elementary_flow in elementary_flow_list:\n",
    "    elementary_flow_df = elementary_flow_dataframes[elementary_flow]\n",
    "    plt.bar(x=elementary_flow_df[\"bar_tag\"], \n",
    "        height=cumval[\"bottom\"], \n",
    "        bottom=cumval[\"bottom\"],\n",
    "        label=elementary_flow\n",
    "    )\n",
    "\n",
    "_ = plt.xticks(rotation=30)\n",
    "legend = plt.legend(fontsize=18)\n",
    "\n",
    "legend_filename=\"legend.png\"\n",
    "export_legend(legend, filename=legend_filename)\n",
    "print(f\"\\nThe legend without the bounding box is in the file: {legend_filename}\")\n",
    "plt.show()"
   ]
  },
  {
   "cell_type": "code",
   "execution_count": null,
   "id": "e3c1f89b",
   "metadata": {},
   "outputs": [],
   "source": []
  }
 ],
 "metadata": {
  "kernelspec": {
   "display_name": "Python 3 (ipykernel)",
   "language": "python",
   "name": "python3"
  },
  "language_info": {
   "codemirror_mode": {
    "name": "ipython",
    "version": 3
   },
   "file_extension": ".py",
   "mimetype": "text/x-python",
   "name": "python",
   "nbconvert_exporter": "python",
   "pygments_lexer": "ipython3",
   "version": "3.11.3"
  }
 },
 "nbformat": 4,
 "nbformat_minor": 5
}
