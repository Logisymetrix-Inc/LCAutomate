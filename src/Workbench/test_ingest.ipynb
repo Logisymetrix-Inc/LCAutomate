{
 "cells": [
  {
   "cell_type": "markdown",
   "id": "12469aae-90f1-46cf-8f35-7b4e7364ba81",
   "metadata": {
    "tags": []
   },
   "source": [
    "## Test the Ingestion class\n",
    "*September 7, 2023*\n",
    "This notebook is used to both test the Ingestion class and the use of the from_json spec.\n",
    "\n",
    "Each cell is a separate test or example.\n"
   ]
  },
  {
   "cell_type": "code",
   "execution_count": null,
   "id": "e43e83a6-3881-4681-81ee-eeba7aaf7dd0",
   "metadata": {
    "tags": []
   },
   "outputs": [],
   "source": [
    "from os import walk\n",
    "import pandas as pd\n",
    "import re\n",
    "import json\n",
    "from ingestion import Ingestion"
   ]
  },
  {
   "cell_type": "code",
   "execution_count": null,
   "id": "5075dad3-dfb4-4788-9681-4166894e935e",
   "metadata": {
    "tags": []
   },
   "outputs": [],
   "source": [
    "# You must run this cell first to define the utility function assert_value()\n",
    "def assert_value(value, expected_value):\n",
    "    if value != expected_value:\n",
    "        raise Exception(f\"Expected {expected_value}\")\n",
    "    else:\n",
    "        print(\"OK\")\n"
   ]
  },
  {
   "cell_type": "code",
   "execution_count": null,
   "id": "fef9c7d5-44ef-47e5-b820-66859d5edfce",
   "metadata": {
    "tags": []
   },
   "outputs": [],
   "source": [
    "# Test Ingestion.get_value_from_filename()\n",
    "\n",
    "test_column = {\n",
    "    \"column_name\": \"housingType\",\n",
    "    \"source\": \"from_filename\",\n",
    "    \"spec\": r\"^Conventional egg production__Farm__(.*)__.*\\.xlsx-result-total-impacts$\"\n",
    "}\n",
    "test_filename = \"Conventional egg production__Farm__A__003.xlsx-result-total-impacts\"\n",
    "value = Ingestion.get_value_from_filename(test_column, test_filename)\n",
    "assert_value(value, \"A\")"
   ]
  },
  {
   "cell_type": "code",
   "execution_count": null,
   "id": "71d55977-6393-4ad1-bd74-cc59d29a42a2",
   "metadata": {
    "tags": []
   },
   "outputs": [],
   "source": [
    "# Test Ingestion.extend_pivot_data()\n",
    "\n",
    "test_this_pivot_data = [0, 1, 2]\n",
    "test_next_pivot_data = [0, 1, 2, 3, 0, 1, 2, 3, 0, 1, 2, 3]\n",
    "extended_pivot_data = Ingestion.extend_pivot_data(test_this_pivot_data, test_next_pivot_data)\n",
    "assert_value(extended_pivot_data, [0, 0, 0, 0, 1, 1, 1, 1, 2, 2, 2, 2])"
   ]
  },
  {
   "cell_type": "markdown",
   "id": "d2ff0dcf-687b-4572-8a6e-722cb01a941f",
   "metadata": {
    "tags": []
   },
   "source": [
    "<a id='section_id1'></a>\n",
    "### Tutorial on using the from_json spec\n",
    "\n",
    "The following examples illustrate how the various tokens in the from_json spec string are used."
   ]
  },
  {
   "cell_type": "markdown",
   "id": "ab33876b-c378-4a47-a03f-a2bebe64ef0e",
   "metadata": {
    "tags": []
   },
   "source": [
    "#### The `<key>` token\n",
    "Try running the cell below."
   ]
  },
  {
   "cell_type": "code",
   "execution_count": null,
   "id": "d7004e4a-e369-4704-a932-29d92e92b1d4",
   "metadata": {
    "tags": []
   },
   "outputs": [],
   "source": [
    "# The <key> token\n",
    "\n",
    "json_data_str = \"\"\"{\n",
    "    \"letter\": \"a\",\n",
    "    \"fruit\": \"apple\"\n",
    "}\"\"\"\n",
    "json_data = json.loads(json_data_str)\n",
    "spec = \"fruit\"\n",
    "spec_tokens = spec.split(\".\")\n",
    "spec_index = 0\n",
    "(values, pivots) = Ingestion.extract_values_by_spec(json_data, spec_tokens, spec_index)\n",
    "print(f\"values: {values}\")\n"
   ]
  },
  {
   "cell_type": "markdown",
   "id": "4c5a91ee-ddba-40d5-877d-07f1f68f53c5",
   "metadata": {},
   "source": [
    "#### The `[].<key>` token pair\n",
    "Try running the cell below."
   ]
  },
  {
   "cell_type": "code",
   "execution_count": null,
   "id": "e8b4c0d8-0aab-481b-bc27-eaa503d27616",
   "metadata": {
    "tags": []
   },
   "outputs": [],
   "source": [
    "# The [].<key> token pair\n",
    "\n",
    "json_data_str = \"\"\"[\n",
    "    {\n",
    "        \"letter\": \"a\",\n",
    "        \"fruit\": \"apple\"\n",
    "    },\n",
    "    {\n",
    "        \"letter\": \"b\",\n",
    "        \"fruit\": \"banana\"\n",
    "    },\n",
    "    {\n",
    "        \"letter\": \"b\",\n",
    "        \"fruit\": \"cantaloupe\"\n",
    "    }\n",
    "]\"\"\"\n",
    "json_data = json.loads(json_data_str)\n",
    "spec = \"[].fruit\"\n",
    "spec_tokens = spec.split(\".\")\n",
    "spec_index = 0\n",
    "(values, pivots) = Ingestion.extract_values_by_spec(json_data, spec_tokens, spec_index)\n",
    "print(f\"values: {values}\")\n"
   ]
  },
  {
   "cell_type": "markdown",
   "id": "5da8e442-ba16-4727-b668-c640e8a20c95",
   "metadata": {},
   "source": [
    "#### The `[n].<key>` token pair\n",
    "Try running the cell below."
   ]
  },
  {
   "cell_type": "code",
   "execution_count": null,
   "id": "b61e7b2c-bd80-40e7-9312-eacf275c86fe",
   "metadata": {
    "tags": []
   },
   "outputs": [],
   "source": [
    "# The [n].<key> token pair\n",
    "\n",
    "json_data_str = \"\"\"[\n",
    "    {\n",
    "        \"letter\": \"a\",\n",
    "        \"fruit\": \"apple\"\n",
    "    },\n",
    "    {\n",
    "        \"letter\": \"b\",\n",
    "        \"fruit\": \"banana\"\n",
    "    },\n",
    "    {\n",
    "        \"letter\": \"c\",\n",
    "        \"fruit\": \"cantaloupe\"\n",
    "    }\n",
    "]\"\"\"\n",
    "json_data = json.loads(json_data_str)\n",
    "spec = \"[1].fruit\"\n",
    "spec_tokens = spec.split(\".\")\n",
    "spec_index = 0\n",
    "(values, pivots) = Ingestion.extract_values_by_spec(json_data, spec_tokens, spec_index)\n",
    "print(f\"values: {values}\")\n"
   ]
  },
  {
   "cell_type": "markdown",
   "id": "a334bf33-d810-41cb-93b6-ae085cc14bab",
   "metadata": {},
   "source": [
    "#### The `__keys__[].<key>` token pair\n",
    "Try running the cell below."
   ]
  },
  {
   "cell_type": "code",
   "execution_count": null,
   "id": "6d4554ec-de52-4368-ba83-48cf11000eb4",
   "metadata": {
    "tags": []
   },
   "outputs": [],
   "source": [
    "# The __keys__[].<key> token pair\n",
    "\n",
    "json_data_str = \"\"\"{\n",
    "    \"farm_a\": {\n",
    "        \"letter\": \"a\",\n",
    "        \"fruit\": \"apple\"\n",
    "    },\n",
    "    \"farm_b\": {\n",
    "        \"letter\": \"b\",\n",
    "        \"fruit\": \"banana\"\n",
    "    },\n",
    "    \"farm_c\": {\n",
    "        \"letter\": \"c\",\n",
    "        \"fruit\": \"cantaloupe\"\n",
    "    }\n",
    "}\"\"\"\n",
    "json_data = json.loads(json_data_str)\n",
    "spec = \"__keys__[].letter\"\n",
    "spec_tokens = spec.split(\".\")\n",
    "spec_index = 0\n",
    "(values, pivots) = Ingestion.extract_values_by_spec(json_data, spec_tokens, spec_index)\n",
    "print(f\"values: {values}\")\n"
   ]
  },
  {
   "cell_type": "markdown",
   "id": "f5271922-229c-4fb7-a544-e89017cd148f",
   "metadata": {},
   "source": [
    "#### The `__keys__[n].<key>` token pair\n",
    "Try running the cell below."
   ]
  },
  {
   "cell_type": "code",
   "execution_count": null,
   "id": "40b1733e-7e9a-4263-939e-a6cee2f34824",
   "metadata": {
    "tags": []
   },
   "outputs": [],
   "source": [
    "# The __keys__[n].<key> token pair\n",
    "\n",
    "json_data_str = \"\"\"{\n",
    "    \"farm_a\": {\n",
    "        \"letter\": \"a\",\n",
    "        \"fruit\": \"apple\"\n",
    "    },\n",
    "    \"farm_b\": {\n",
    "        \"letter\": \"b\",\n",
    "        \"fruit\": \"banana\"\n",
    "    },\n",
    "    \"farm_c\": {\n",
    "        \"letter\": \"c\",\n",
    "        \"fruit\": \"cantaloupe\"\n",
    "    }\n",
    "}\"\"\"\n",
    "json_data = json.loads(json_data_str)\n",
    "spec = \"__keys__[1].letter\"\n",
    "spec_tokens = spec.split(\".\")\n",
    "spec_index = 0\n",
    "(values, pivots) = Ingestion.extract_values_by_spec(json_data, spec_tokens, spec_index)\n",
    "print(f\"values: {values}\")\n"
   ]
  },
  {
   "cell_type": "markdown",
   "id": "a3fe3126-aa31-446c-862d-927228ec63da",
   "metadata": {},
   "source": [
    "#### A real-world example of using the from_json spec\n",
    "You will see values and pivots - don't worry about pivots as they are used internally when merging.\n",
    "\n",
    "Try running the cell two down.  But don't forget to first run the cell below to define assert_value()."
   ]
  },
  {
   "cell_type": "code",
   "execution_count": null,
   "id": "3d6222aa-5cc4-43a9-be77-e4f897e493f7",
   "metadata": {
    "tags": []
   },
   "outputs": [],
   "source": [
    "# You must run this cell first to define assert_value(), then you can run\n",
    "# the examples below\n",
    "#\n",
    "def assert_value(value, expected_value):\n",
    "    if value != expected_value:\n",
    "        raise Exception(f\"Expected {expected_value}\")\n",
    "    else:\n",
    "        print(\"OK\")\n"
   ]
  },
  {
   "cell_type": "code",
   "execution_count": null,
   "id": "8b31ada2-9448-4a07-8fe5-98e46cf69fb4",
   "metadata": {
    "tags": []
   },
   "outputs": [],
   "source": [
    "# Test Ingestion.extract_values_by_spec()\n",
    "\n",
    "json_data_str = \"\"\"[\n",
    "    {\n",
    "        \"Human toxicity - CML 2 baseline 2000\": [\n",
    "            {\n",
    "                \"techFlow\": {\n",
    "                    \"provider\": {\n",
    "                        \"@type\": \"Process\",\n",
    "                        \"@id\": \"c8af2d86-cec0-43b3-ad93-703c59cc5d20\",\n",
    "                        \"name\": \"Conventional egg production__Farm__A__003.xlsx\",\n",
    "                        \"processType\": \"UNIT_PROCESS\",\n",
    "                        \"flowType\": \"PRODUCT_FLOW\"\n",
    "                    },\n",
    "                    \"flow\": {\n",
    "                        \"@type\": \"Flow\",\n",
    "                        \"@id\": \"75abe2d6-dcf6-42e0-994f-98d8f7a81958\",\n",
    "                        \"name\": \"Egg-conventional cage layer\",\n",
    "                        \"category\": \"Egg\",\n",
    "                        \"flowType\": \"PRODUCT_FLOW\",\n",
    "                        \"refUnit\": \"kg\"\n",
    "                    }\n",
    "                },\n",
    "                \"result\": 0.5578417652145193,\n",
    "                \"directContribution\": 0.0,\n",
    "                \"requiredAmount\": 1.0,\n",
    "                \"upstreamTechFlows\": [\n",
    "                    {\n",
    "                        \"techFlow\": {\n",
    "                            \"provider\": {\n",
    "                                \"@type\": \"Process\",\n",
    "                                \"@id\": \"11936076-34c7-4748-8093-b7b560b3d015\",\n",
    "                                \"name\": \"Feed mill-layers-conventional- Pelletier 2017, Pulse Canada\",\n",
    "                                \"category\": \"Egg production processes/Updated Models using 2019  collected data/Feed production\",\n",
    "                                \"processType\": \"UNIT_PROCESS\",\n",
    "                                \"flowType\": \"PRODUCT_FLOW\"\n",
    "                            },\n",
    "                            \"flow\": {\n",
    "                                \"@type\": \"Flow\",\n",
    "                                \"@id\": \"ad4ec28d-72c8-4771-b633-893ceb1c2461\",\n",
    "                                \"name\": \"Feed - layer\",\n",
    "                                \"category\": \"Egg\",\n",
    "                                \"flowType\": \"PRODUCT_FLOW\",\n",
    "                                \"refUnit\": \"kg\"\n",
    "                            }\n",
    "                        },\n",
    "                        \"result\": 0.42890065687101325,\n",
    "                        \"directContribution\": 0.0,\n",
    "                        \"requiredAmount\": 1.5949158953683473,\n",
    "                        \"upstreamTechFlows\": []\n",
    "                    },\n",
    "                    {\n",
    "                        \"techFlow\": {\n",
    "                            \"provider\": {\n",
    "                                \"@type\": \"Process\",\n",
    "                                \"@id\": \"fbfa83d4-6625-4214-9e34-27cc15247e48\",\n",
    "                                \"name\": \"Pullets-conventional\",\n",
    "                                \"category\": \"Egg production processes/Pelletier 2017 Processes/Pullets, Breeder, and Hatchery Production\",\n",
    "                                \"processType\": \"UNIT_PROCESS\",\n",
    "                                \"flowType\": \"PRODUCT_FLOW\"\n",
    "                            },\n",
    "                            \"flow\": {\n",
    "                                \"@type\": \"Flow\",\n",
    "                                \"@id\": \"06425698-26e1-4efb-bfa0-e0fea0cdeb6f\",\n",
    "                                \"name\": \"Pullets-conventional\",\n",
    "                                \"category\": \"Egg\",\n",
    "                                \"flowType\": \"PRODUCT_FLOW\",\n",
    "                                \"refUnit\": \"Item(s)\"\n",
    "                            }\n",
    "                        },\n",
    "                        \"result\": 0.08983064766686122,\n",
    "                        \"directContribution\": 0.0,\n",
    "                        \"requiredAmount\": 0.04418184063273047,\n",
    "                        \"upstreamTechFlows\": []\n",
    "                    }\n",
    "                ]\n",
    "            }\n",
    "        ]\n",
    "    }\n",
    "]\"\"\"\n",
    "json_data = json.loads(json_data_str)\n",
    "spec = \"[].__keys__[0].[0].upstreamTechFlows.[].result\"\n",
    "spec_tokens = spec.split(\".\")\n",
    "spec_index = 0\n",
    "(values, pivots) = Ingestion.extract_values_by_spec(json_data, spec_tokens, spec_index)\n",
    "print(f\"values: {values}\")\n",
    "assert_value(values, [0.42890065687101325, 0.08983064766686122]),\n",
    "print(f\"pivots: {pivots}\")\n",
    "assert_value(pivots, {'pivot_0': [0, 0], 'pivot_4': [0, 1]})\n"
   ]
  },
  {
   "cell_type": "markdown",
   "id": "b467a7bb-43c2-48c1-9196-bc5e4de563e3",
   "metadata": {},
   "source": [
    "<a id='section_id2'></a>\n",
    "### Tutorial on merging DataFrames\n",
    "\n",
    "The following example illustrate how two dataframes are merged.  Run the cells sequentially."
   ]
  },
  {
   "cell_type": "code",
   "execution_count": null,
   "id": "42b1255c-b9c0-49b8-987e-1c798a367c33",
   "metadata": {
    "tags": []
   },
   "outputs": [],
   "source": [
    "left_d = {\n",
    "    \"farm\": [\n",
    "        \"farm_a\",\n",
    "        \"farm_b\",\n",
    "        \"farm_c\"\n",
    "    ],\n",
    "    \"letter\": [\n",
    "        \"a\",\n",
    "        \"b\",\n",
    "        \"c\"\n",
    "    ],\n",
    "    \"fruit\": [\n",
    "        \"apple\",\n",
    "        \"banana\",\n",
    "        \"cantaloupe\"\n",
    "    ]\n",
    "}\n",
    "left_df = pd.DataFrame(data=left_d)\n",
    "left_df"
   ]
  },
  {
   "cell_type": "code",
   "execution_count": null,
   "id": "59ea0034-66cc-4681-8fda-02ab1cc73540",
   "metadata": {
    "tags": []
   },
   "outputs": [],
   "source": [
    "right_d = {\n",
    "    \"farm\": [\n",
    "        \"farm_a\",\n",
    "        \"farm_a\",\n",
    "        \"farm_a\",\n",
    "        \"farm_b\",\n",
    "        \"farm_b\",\n",
    "        \"farm_b\",\n",
    "        \"farm_c\",\n",
    "        \"farm_c\",\n",
    "        \"farm_c\"\n",
    "    ],\n",
    "    \"characteristic\": [\n",
    "        \"x\",\n",
    "        \"y\",\n",
    "        \"z\",\n",
    "        \"x\",\n",
    "        \"y\",\n",
    "        \"z\",\n",
    "        \"x\",\n",
    "        \"y\",\n",
    "        \"z\"\n",
    "    ],\n",
    "    \"value\": [\n",
    "        0.1,\n",
    "        0.2,\n",
    "        0.3,\n",
    "        0.2,\n",
    "        0.4,\n",
    "        0.6,\n",
    "        0.3,\n",
    "        0.6,\n",
    "        0.9,\n",
    "    ]\n",
    "}\n",
    "right_df = pd.DataFrame(data=right_d)\n",
    "right_df"
   ]
  },
  {
   "cell_type": "code",
   "execution_count": null,
   "id": "dfee059c-03b9-49f6-85b0-57bdf9107da6",
   "metadata": {
    "tags": []
   },
   "outputs": [],
   "source": [
    "dataframes = {}\n",
    "dataframes[\"left_df\"] = left_df\n",
    "dataframes[\"right_df\"] = right_df\n"
   ]
  },
  {
   "cell_type": "code",
   "execution_count": null,
   "id": "f9ca23a3-bb53-48fe-97f3-d8c5f677ca8b",
   "metadata": {
    "tags": []
   },
   "outputs": [],
   "source": [
    "dataframe_creation = {\n",
    "    \"dataframe_name\": \"merged_df\",\n",
    "    \"creation_method\": \"merge\",\n",
    "    \"left_dataframe\": \"left_df\",\n",
    "    \"right_dataframe\": \"right_df\",\n",
    "    \"left_merge_columns\": [\n",
    "        \"farm\"\n",
    "    ],\n",
    "    \"right_merge_columns\": [\n",
    "        \"farm\"\n",
    "    ]\n",
    "}\n"
   ]
  },
  {
   "cell_type": "code",
   "execution_count": null,
   "id": "2756875e-ef2e-48d4-9f14-e4c92c62962a",
   "metadata": {
    "tags": []
   },
   "outputs": [],
   "source": [
    "# This is the merge code - should be in its own method\n",
    "#\n",
    "dataframe_name = dataframe_creation[\"dataframe_name\"]\n",
    "creation_method = dataframe_creation[\"creation_method\"]\n",
    "if creation_method == \"merge\":\n",
    "    left_df_name = dataframe_creation[\"left_dataframe\"]\n",
    "    right_df_name = dataframe_creation[\"right_dataframe\"]\n",
    "    print(\"\\n\")\n",
    "    print(f\"Dataframe {dataframe_name} will be merged from {left_df_name} and {right_df_name}\")\n",
    "    left_df = dataframes[left_df_name]\n",
    "    right_df = dataframes[right_df_name]\n",
    "    left_merge_columns = dataframe_creation[\"left_merge_columns\"]\n",
    "    right_merge_columns = dataframe_creation[\"right_merge_columns\"]\n",
    "    dataframes[dataframe_name] = left_df.merge(\n",
    "        right_df, how='outer', left_on=left_merge_columns, right_on=right_merge_columns\n",
    "    )\n",
    "\n",
    "print(f\"Dataframe name: {dataframe_name}\")\n",
    "dataframes[dataframe_name]"
   ]
  },
  {
   "cell_type": "code",
   "execution_count": null,
   "id": "5b6e5050-faf5-4bea-8b49-d97c5e1daa2c",
   "metadata": {},
   "outputs": [],
   "source": []
  }
 ],
 "metadata": {
  "kernelspec": {
   "display_name": "Python 3 (ipykernel)",
   "language": "python",
   "name": "python3"
  },
  "language_info": {
   "codemirror_mode": {
    "name": "ipython",
    "version": 3
   },
   "file_extension": ".py",
   "mimetype": "text/x-python",
   "name": "python",
   "nbconvert_exporter": "python",
   "pygments_lexer": "ipython3",
   "version": "3.11.3"
  }
 },
 "nbformat": 4,
 "nbformat_minor": 5
}
